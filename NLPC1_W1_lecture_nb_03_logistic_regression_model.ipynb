{
  "nbformat": 4,
  "nbformat_minor": 0,
  "metadata": {
    "colab": {
      "name": "NLPC1_W1_lecture_nb_03_logistic_regression_model.ipynb",
      "provenance": [],
      "authorship_tag": "ABX9TyNh2u6oM/icbeYyaYfUpSnI",
      "include_colab_link": true
    },
    "kernelspec": {
      "name": "python3",
      "display_name": "Python 3"
    },
    "language_info": {
      "name": "python"
    }
  },
  "cells": [
    {
      "cell_type": "markdown",
      "metadata": {
        "id": "view-in-github",
        "colab_type": "text"
      },
      "source": [
        "<a href=\"https://colab.research.google.com/github/Creatrohit9/Natural-language-processing-specialization/blob/main/NLPC1_W1_lecture_nb_03_logistic_regression_model.ipynb\" target=\"_parent\"><img src=\"https://colab.research.google.com/assets/colab-badge.svg\" alt=\"Open In Colab\"/></a>"
      ]
    },
    {
      "cell_type": "code",
      "execution_count": 2,
      "metadata": {
        "colab": {
          "base_uri": "https://localhost:8080/"
        },
        "id": "Dajr1q_XwdJv",
        "outputId": "23dd523a-fe13-4a6b-f4dc-a7693f4fce68"
      },
      "outputs": [
        {
          "output_type": "stream",
          "name": "stdout",
          "text": [
            "[nltk_data] Downloading package twitter_samples to /root/nltk_data...\n",
            "[nltk_data]   Unzipping corpora/twitter_samples.zip.\n"
          ]
        },
        {
          "output_type": "execute_result",
          "data": {
            "text/plain": [
              "True"
            ]
          },
          "metadata": {},
          "execution_count": 2
        }
      ],
      "source": [
        "import nltk                         # NLP toolbox\n",
        "from os import getcwd\n",
        "import pandas as pd                 # Library for Dataframes \n",
        "from nltk.corpus import twitter_samples \n",
        "import matplotlib.pyplot as plt     # Library for visualization\n",
        "import numpy as np                  # Library for math functions\n",
        "\n",
        "nltk.download('twitter_samples')"
      ]
    },
    {
      "cell_type": "code",
      "source": [
        ""
      ],
      "metadata": {
        "id": "4J-pVsgTyfqp"
      },
      "execution_count": null,
      "outputs": []
    }
  ]
}